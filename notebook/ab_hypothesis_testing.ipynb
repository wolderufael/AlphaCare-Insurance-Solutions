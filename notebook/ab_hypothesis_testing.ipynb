{
 "cells": [
  {
   "cell_type": "markdown",
   "metadata": {},
   "source": [
    "# A/B Hypothesis Testing "
   ]
  },
  {
   "cell_type": "markdown",
   "metadata": {},
   "source": [
    "**Here are the null Hypothesises**\n",
    "* There are no risk differences across provinces \n",
    "* There are no risk differences between zip codes \n",
    "* There are no significant margin (profit) difference between zip codes \n",
    "* There are not significant risk difference between Women and Men\n"
   ]
  },
  {
   "cell_type": "code",
   "execution_count": 1,
   "metadata": {},
   "outputs": [],
   "source": [
    "import os\n",
    "notebook_dir = os.getcwd()\n",
    "parent_path=os.path.dirname(notebook_dir)\n",
    "\n",
    "os.chdir(parent_path)"
   ]
  },
  {
   "cell_type": "code",
   "execution_count": 2,
   "metadata": {},
   "outputs": [],
   "source": [
    "from scripts.ab_hypothesis_testing import ABTest"
   ]
  },
  {
   "cell_type": "code",
   "execution_count": 3,
   "metadata": {},
   "outputs": [],
   "source": [
    "import pandas as pd\n",
    "insurance_df = pd.read_csv('data\\\\insurance_data.csv',low_memory=False)"
   ]
  },
  {
   "cell_type": "code",
   "execution_count": 4,
   "metadata": {},
   "outputs": [],
   "source": [
    "# instance of the class\n",
    "Tester=ABTest(insurance_df)"
   ]
  },
  {
   "cell_type": "markdown",
   "metadata": {},
   "source": [
    "## Hypothesis 1: no risk differences across provinces "
   ]
  },
  {
   "cell_type": "markdown",
   "metadata": {},
   "source": [
    "Since Provinces are nine in number we select the two provinces with highest frequencies as Control Group and Test Group\n",
    "* **Control Group:** Gauteng, \n",
    "* **Test Group:** Western Cape"
   ]
  },
  {
   "cell_type": "markdown",
   "metadata": {},
   "source": [
    "### T-test "
   ]
  },
  {
   "cell_type": "code",
   "execution_count": 5,
   "metadata": {},
   "outputs": [
    {
     "name": "stdout",
     "output_type": "stream",
     "text": [
      "The p-value of T-Test is:  0.056320446498719125\n",
      "Fail to reject the null hypothesis: No significant difference in risk across provinces.\n"
     ]
    }
   ],
   "source": [
    "f_stat, p_value=Tester.t_test(insurance_df,'Province','TotalClaims','Gauteng','Western Cape')\n",
    "if p_value < 0.05:\n",
    "    print(\"Reject the null hypothesis: There is a significant difference in risk across provinces.\")\n",
    "else:\n",
    "    print(\"Fail to reject the null hypothesis: No significant difference in risk across provinces.\")"
   ]
  },
  {
   "cell_type": "markdown",
   "metadata": {},
   "source": [
    "## Hypothesis 2: There are no risk differences between postal codes "
   ]
  },
  {
   "cell_type": "markdown",
   "metadata": {},
   "source": [
    "Since Postalcodes are 888 in number we select the two Postalcodes with highest frequencies as Control Group and Test Group\n",
    "* **Control Group:** Postal Code==2000, \n",
    "* **Test Group:** Postal Code==122"
   ]
  },
  {
   "cell_type": "markdown",
   "metadata": {},
   "source": [
    "### T-test"
   ]
  },
  {
   "cell_type": "code",
   "execution_count": 6,
   "metadata": {},
   "outputs": [
    {
     "name": "stdout",
     "output_type": "stream",
     "text": [
      "The p-value of T-Test is:  0.5022856048770837\n",
      "Fail to reject the null hypothesis: No significant difference in risk between different Postal codes\n"
     ]
    }
   ],
   "source": [
    "f_stat, p_value=Tester.t_test(insurance_df,'PostalCode','TotalClaims',2000,122)\n",
    "if p_value < 0.05:\n",
    "    print(\"Reject the null hypothesis: There is a significant difference in risk between different Postal codes.\")\n",
    "else:\n",
    "    print(\"Fail to reject the null hypothesis: No significant difference in risk between different Postal codes\")"
   ]
  },
  {
   "cell_type": "markdown",
   "metadata": {},
   "source": [
    "## Hypothesis 3: There are no significant margin (profit) difference between Postal codes "
   ]
  },
  {
   "cell_type": "code",
   "execution_count": 7,
   "metadata": {},
   "outputs": [],
   "source": [
    "#calculate profit margin\n",
    "Tester.calculate_profit()"
   ]
  },
  {
   "cell_type": "code",
   "execution_count": 8,
   "metadata": {},
   "outputs": [
    {
     "name": "stdout",
     "output_type": "stream",
     "text": [
      "The p-value of T-Test is:  0.05430428897836747\n",
      "Fail to reject the null hypothesis: No significant difference margin (profit) difference  between different Postal codes\n"
     ]
    }
   ],
   "source": [
    "f_stat, p_value=Tester.t_test(insurance_df,'PostalCode','ProfitMargin',2000,122)\n",
    "if p_value < 0.05:\n",
    "    print(\"Reject the null hypothesis: There is a significant difference margin (profit) difference between different Postal codes.\")\n",
    "else:\n",
    "    print(\"Fail to reject the null hypothesis: No significant difference margin (profit) difference  between different Postal codes\")"
   ]
  },
  {
   "cell_type": "markdown",
   "metadata": {},
   "source": [
    "## Hypothesis 4: There are not significant risk difference between Women and Men"
   ]
  },
  {
   "cell_type": "markdown",
   "metadata": {},
   "source": [
    "### Segmentation\n",
    "* **Control Group:** 'Male, \n",
    "* **Test Group:**'Female'"
   ]
  },
  {
   "cell_type": "markdown",
   "metadata": {},
   "source": [
    "Since most of the 'Gender' value in the data is 'Not specified' we use the 'Title' column to identify "
   ]
  },
  {
   "cell_type": "code",
   "execution_count": 9,
   "metadata": {},
   "outputs": [],
   "source": [
    "Tester.identify_gender()"
   ]
  },
  {
   "cell_type": "markdown",
   "metadata": {},
   "source": [
    "### T-test"
   ]
  },
  {
   "cell_type": "code",
   "execution_count": 13,
   "metadata": {},
   "outputs": [
    {
     "name": "stdout",
     "output_type": "stream",
     "text": [
      "The p-value of T-Test is:  0.03159956564544485\n",
      "Reject the null hypothesis: There is a significant difference in risk difference between Women and Men\n"
     ]
    }
   ],
   "source": [
    "f_stat, p_value=Tester.t_test(insurance_df,'Gender','TotalClaims','Male','Female')\n",
    "if p_value < 0.05:\n",
    "    print(\"Reject the null hypothesis: There is a significant difference in risk difference between Women and Men\")\n",
    "else:\n",
    "    print(\"Fail to reject the null hypothesis: No significant difference in risk difference between Women and Men\")"
   ]
  }
 ],
 "metadata": {
  "kernelspec": {
   "display_name": ".venv",
   "language": "python",
   "name": "python3"
  },
  "language_info": {
   "codemirror_mode": {
    "name": "ipython",
    "version": 3
   },
   "file_extension": ".py",
   "mimetype": "text/x-python",
   "name": "python",
   "nbconvert_exporter": "python",
   "pygments_lexer": "ipython3",
   "version": "3.12.5"
  }
 },
 "nbformat": 4,
 "nbformat_minor": 2
}
